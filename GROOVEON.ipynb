{
  "nbformat": 4,
  "nbformat_minor": 0,
  "metadata": {
    "colab": {
      "provenance": [],
      "include_colab_link": true
    },
    "kernelspec": {
      "name": "python3",
      "display_name": "Python 3"
    },
    "language_info": {
      "name": "python"
    }
  },
  "cells": [
    {
      "cell_type": "markdown",
      "metadata": {
        "id": "view-in-github",
        "colab_type": "text"
      },
      "source": [
        "<a href=\"https://colab.research.google.com/github/NilupulNakandala/GrooveOn-Hairstyle-recommendation-/blob/main/GROOVEON.ipynb\" target=\"_parent\"><img src=\"https://colab.research.google.com/assets/colab-badge.svg\" alt=\"Open In Colab\"/></a>"
      ]
    },
    {
      "cell_type": "markdown",
      "source": [
        "#Project#"
      ],
      "metadata": {
        "id": "7dti3OIf-Gf4"
      }
    },
    {
      "cell_type": "code",
      "execution_count": null,
      "metadata": {
        "id": "bP-nVoT5-AF8",
        "colab": {
          "base_uri": "https://localhost:8080/"
        },
        "outputId": "816d2e1f-921e-435a-d056-239b6476cd1b"
      },
      "outputs": [
        {
          "output_type": "stream",
          "name": "stdout",
          "text": [
            "hi\n"
          ]
        }
      ],
      "source": [
        "print(\"hi\")"
      ]
    },
    {
      "cell_type": "code",
      "source": [
        "from google.colab import drive\n",
        "drive.mount('/content/drive')"
      ],
      "metadata": {
        "colab": {
          "base_uri": "https://localhost:8080/"
        },
        "id": "kJVv1TuElGFm",
        "outputId": "55c723ae-95e1-43eb-ce84-664d1eaa297a"
      },
      "execution_count": 5,
      "outputs": [
        {
          "output_type": "stream",
          "name": "stdout",
          "text": [
            "Mounted at /content/drive\n"
          ]
        }
      ]
    },
    {
      "cell_type": "code",
      "source": [
        "!pip install tensorflow opencv-python sklearn"
      ],
      "metadata": {
        "colab": {
          "base_uri": "https://localhost:8080/"
        },
        "id": "NRMpnSlAfsKy",
        "outputId": "1d0d4fe8-ea0d-4032-b03d-3ce9b7e37f4f"
      },
      "execution_count": 1,
      "outputs": [
        {
          "output_type": "stream",
          "name": "stdout",
          "text": [
            "Requirement already satisfied: tensorflow in /usr/local/lib/python3.10/dist-packages (2.15.0)\n",
            "Requirement already satisfied: opencv-python in /usr/local/lib/python3.10/dist-packages (4.8.0.76)\n",
            "Collecting sklearn\n",
            "  Downloading sklearn-0.0.post12.tar.gz (2.6 kB)\n",
            "  \u001b[1;31merror\u001b[0m: \u001b[1msubprocess-exited-with-error\u001b[0m\n",
            "  \n",
            "  \u001b[31m×\u001b[0m \u001b[32mpython setup.py egg_info\u001b[0m did not run successfully.\n",
            "  \u001b[31m│\u001b[0m exit code: \u001b[1;36m1\u001b[0m\n",
            "  \u001b[31m╰─>\u001b[0m See above for output.\n",
            "  \n",
            "  \u001b[1;35mnote\u001b[0m: This error originates from a subprocess, and is likely not a problem with pip.\n",
            "  Preparing metadata (setup.py) ... \u001b[?25l\u001b[?25herror\n",
            "\u001b[1;31merror\u001b[0m: \u001b[1mmetadata-generation-failed\u001b[0m\n",
            "\n",
            "\u001b[31m×\u001b[0m Encountered error while generating package metadata.\n",
            "\u001b[31m╰─>\u001b[0m See above for output.\n",
            "\n",
            "\u001b[1;35mnote\u001b[0m: This is an issue with the package mentioned above, not pip.\n",
            "\u001b[1;36mhint\u001b[0m: See above for details.\n"
          ]
        }
      ]
    },
    {
      "cell_type": "code",
      "source": [
        "import pandas as pd  # For data manipulation\n",
        "import numpy as np\n",
        "from google.colab import drive\n",
        "drive.mount('/content/drive')\n",
        "\n",
        "\n"
      ],
      "metadata": {
        "id": "5OFWPH6nzoYA",
        "colab": {
          "base_uri": "https://localhost:8080/"
        },
        "outputId": "4b177ce3-4439-4d67-b179-d6b508dcaca8"
      },
      "execution_count": 6,
      "outputs": [
        {
          "output_type": "stream",
          "name": "stdout",
          "text": [
            "Drive already mounted at /content/drive; to attempt to forcibly remount, call drive.mount(\"/content/drive\", force_remount=True).\n"
          ]
        }
      ]
    },
    {
      "cell_type": "code",
      "source": [
        "#Assign the dataset path to a variable\n",
        "data_directory = '/content/drive/MyDrive/SDGP_Project/Dataset'\n",
        "\n",
        "import os\n",
        "import cv2\n",
        "\n",
        "#face shape catogaries\n",
        "categories = os.listdir(data_directory)\n",
        "\n",
        "# references - https://towardsdatascience.com/implementing-k-nearest-neighbors-with-scikit-learn-9e4858e231ea\n",
        "\n",
        "# Initialize lists to store images and labels\n",
        "images = []\n",
        "labels = []\n",
        "\n",
        "# Iterate through each category of images\n",
        "for category in categories:\n",
        "    category_path = os.path.join(data_directory, category)\n",
        "    for image_path in os.listdir(category_path):\n",
        "        image = cv2.imread(os.path.join(category_path, image_path)) # Read the image using OpenCV\n",
        "        # Resize the image to a consistent size\n",
        "        image = cv2.resize(image, (224, 224))  # Adjust size as needed\n",
        "\n",
        "        # Append the image and its corresponding label to the lists\n",
        "        images.append(image)\n",
        "        labels.append(category)\n",
        "\n",
        "# Convert images to NumPy arrays\n",
        "images = np.array(images)"
      ],
      "metadata": {
        "id": "c-j2zFgTh9CU"
      },
      "execution_count": 7,
      "outputs": []
    }
  ]
}